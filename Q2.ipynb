{
 "cells": [
  {
   "cell_type": "code",
   "execution_count": 19,
   "metadata": {
    "collapsed": true
   },
   "outputs": [],
   "source": [
    "import queue\n",
    "import numpy as np\n",
    "from sklearn.cluster import KMeans\n",
    "from scipy.spatial.distance import euclidean"
   ]
  },
  {
   "cell_type": "code",
   "execution_count": 20,
   "metadata": {
    "collapsed": true
   },
   "outputs": [],
   "source": [
    "articles = np.load(\"Q2-data/science2k-doc-word.npy\")\n",
    "terms = open(\"Q2-data/science2k-vocab.txt\", \"r\").read().split()\n",
    "titles = open(\"Q2-data/science2k-titles.txt\", \"r\").read().split(\"\\n\")"
   ]
  },
  {
   "cell_type": "code",
   "execution_count": 24,
   "metadata": {
    "collapsed": false
   },
   "outputs": [
    {
     "name": "stdout",
     "output_type": "stream",
     "text": [
      "(5476,)\n",
      "-0.5965484 11.04432\n",
      "5476\n",
      "\"Archaeology in the Holy Land\"\n"
     ]
    }
   ],
   "source": [
    "print(articles[0].shape)\n",
    "print(min(articles[50]), max(articles[10]))\n",
    "print(len(terms))\n",
    "print(titles[0])"
   ]
  },
  {
   "cell_type": "code",
   "execution_count": 41,
   "metadata": {
    "collapsed": false
   },
   "outputs": [],
   "source": [
    "for k in range(3, 4):\n",
    "    kmeans = KMeans(n_clusters=k, random_state=0).fit(articles)\n",
    "    clusters = kmeans.predict(articles)\n",
    "    cluster_nodes = []\n",
    "    for y in range(k):\n",
    "        cluster_nodes.append([(clusters[x], titles[x]) for x in range(len(clusters)) if clusters[x] == y])\n",
    "    f = open(str(k) + \"_clusters.txt\", \"w\")\n",
    "    counter = 0\n",
    "    for cluster in cluster_nodes:\n",
    "        f.write(str(counter) + \"\\n\")\n",
    "        for x in cluster:\n",
    "            f.write(x[1] + \"\\n\")\n",
    "        counter += 1\n",
    "        f.write(\"\\n\")"
   ]
  },
  {
   "cell_type": "markdown",
   "metadata": {},
   "source": [
    "Pick K=4 for best k following empirical review.\n",
    "At K=4, I notice 4 distinct groupings: \n",
    "1: Biochem and Genetics\n",
    "2: Earth Science\n",
    "3: Biomedicine and Infectious Disease\n",
    "4: Physics and Material Science"
   ]
  },
  {
   "cell_type": "markdown",
   "metadata": {},
   "source": [
    "For that value, report the top 10 documents of each cluster in order of the largest positive\n",
    "distance from the average value across all data. More specifically, if x is the 5476-vector of\n",
    "average values across documents and m i is the i th mean, report the titles associated with the\n",
    "lowest distance km i − xk 2 . You can find the titles in the science2k-titles.txt file.\n",
    "Comment on these results. What has the algorithm captured? How might such an algorithm\n",
    "be useful?"
   ]
  },
  {
   "cell_type": "code",
   "execution_count": 25,
   "metadata": {
    "collapsed": false
   },
   "outputs": [
    {
     "name": "stdout",
     "output_type": "stream",
     "text": [
      "1373\n",
      "(array([ 11.26102  ,   9.41522  ,   9.009771 , ...,  -0.8937662,\n",
      "        -0.8937662,  -0.8937662]), '\"Structural Basis of Smad2 Recognition by the Smad Anchor for Receptor Activation\"')\n"
     ]
    }
   ],
   "source": [
    "k = 4\n",
    "kmeans = KMeans(n_clusters=k, random_state=0).fit(articles)\n",
    "clusters = kmeans.predict(articles)\n",
    "centers = kmeans.cluster_centers_\n",
    "print(len(articles))\n",
    "cluster_nodes = []\n",
    "for y in range(k):\n",
    "    cluster_nodes.append([(articles[x], titles[x]) for x in range(len(clusters)) if clusters[x] == y])\n",
    "print(cluster_nodes[0][0])"
   ]
  },
  {
   "cell_type": "code",
   "execution_count": 26,
   "metadata": {
    "collapsed": false
   },
   "outputs": [
    {
     "name": "stdout",
     "output_type": "stream",
     "text": [
      "Top 10 in cluster 0\n",
      "\"Requirement of NAD and SIR2 for Life-Span Extension by Calorie Restriction in Saccharomyces Cerevisiae\"\n",
      "\"Suppression of Mutations in Mitochondrial DNA by tRNAs Imported from the Cytoplasm\"\n",
      "\"Distinct Classes of Yeast Promoters Revealed by Differential TAF Recruitment\"\n",
      "\"Efficient Initiation of HCV RNA Replication in Cell Culture\"\n",
      "\"Ubiquitination: More Than Two to Tango\"\n",
      "\"Negative Regulation of the SHATTERPROOF Genes by FRUITFULL during Arabidopsis Fruit Development\"\n",
      "\"T Cell-Independent Rescue of B Lymphocytes from Peripheral Immune Tolerance\"\n",
      "\"Reduced Food Intake and Body Weight in Mice Treated with Fatty Acid Synthase Inhibitors\"\n",
      "\"Patterning of the Zebrafish Retina by a Wave of Sonic Hedgehog Activity\"\n",
      "\"Coupling of Stress in the ER to Activation of JNK Protein Kinases by Transmembrane Protein Kinase IRE1\"\n",
      "\n",
      "\n",
      "Top 10 in cluster 1\n",
      "\"Population Dynamical Consequences of Climate Change for a Small Temperate Songbird\"\n",
      "\"The Formation of Chondrules at High Gas Pressures in the Solar Nebula\"\n",
      "\"Subducted Seamount Imaged in the Rupture Zone of the 1946 Nankaido Earthquake\"\n",
      "\"Tectonic Implications of U-Pb Zircon Ages of the Himalayan Orogenic Belt in Nepal\"\n",
      "\"Nitric Acid Trihydrate (NAT) in Polar Stratospheric Clouds\"\n",
      "\"Reconstruction of the Amazon Basin Effective Moisture Availability over the past 14,000 Years\"\n",
      "\"Greenland Ice Sheet: High-Elevation Balance and Peripheral Thinning\"\n",
      "\"Earth's Enigmatic Interface\"\n",
      "\"Crossing the Hopf Bifurcation in a Live Predator-Prey System\"\n",
      "\"Frozen Methane Escapes from the Sea Floor\"\n",
      "\n",
      "\n",
      "Top 10 in cluster 2\n",
      "\"Algorithmic Gladiators Vie for Digital Glory\"\n",
      "\"Reopening the Darkest Chapter in German Science\"\n",
      "\"Information Technology Takes a Different Tack\"\n",
      "\"National Academy of Sciences Elects New Members\"\n",
      "\"Archaeology in the Holy Land\"\n",
      "\"Heretical Idea Faces Its Sternest Test\"\n",
      "\"Corrections and Clarifications: A Short Fe-Fe Distance in Peroxodiferric Ferritin: Control of Fe Substrate versus Cofactor Decay?\"\n",
      "\"Corrections and Clarifications: Charon's First Detailed Spectra Hold Many Surprises\"\n",
      "\"Corrections and Clarifications: Unearthing Monuments of the Yarmukians\"\n",
      "\"Divining Diet and Disease from DNA\"\n",
      "\n",
      "\n",
      "Top 10 in cluster 3\n",
      "\"Synthesis and Characterization of Helical Multi-Shell Gold Nanowires\"\n",
      "\"A Monoclinic Post-Stishovite Polymorph of Silica in the Shergotty Meteorite\"\n",
      "\"Ambipolar Pentacene Field-Effect Transistors and Inverters\"\n",
      "\"A Stable Bicyclic Compound with Two Si=Si Double Bonds\"\n",
      "\"Xenon as a Complex Ligand: The Tetra Xenono Gold(II) Cation in <latex>$AuXe_4^{2+}(Sb_2F_{11}^-)_2$</latex>\"\n",
      "\"Atomic Layer Deposition of Oxide Thin Films with Metal Alkoxides as Oxygen Sources\"\n",
      "\"Direct Condensation of Carboxylic Acids with Alcohols Catalyzed by Hafnium(IV) Salts\"\n",
      "\"A Cyclic Carbanionic Valence Isomer of a Carbocation: Diphosphino Analogs of Diaminocarbocations\"\n",
      "\"Graphical Evolution of the Arnold Web: From Order to Chaos\"\n",
      "\"High-Gain Harmonic-Generation Free-Electron Laser\"\n",
      "\n",
      "\n"
     ]
    }
   ],
   "source": [
    "for x in range(len(cluster_nodes)):\n",
    "    pq = queue.PriorityQueue()\n",
    "    cluster_points = cluster_nodes[x]\n",
    "    cluster_center = centers[x]\n",
    "    for point,title  in cluster_points:\n",
    "        pq.put((euclidean(cluster_center, point), title))\n",
    "    print(\"Top 10 in cluster \" + str(x))\n",
    "    for y in range(10):\n",
    "        print(pq.get()[1])\n",
    "    print(\"\\n\")"
   ]
  },
  {
   "cell_type": "markdown",
   "metadata": {},
   "source": [
    "(b) The file science2k-word-doc.txt is similar, but capture term-wise rather than document-\n",
    "wise features. That is, for each term, we count the frequency as the number of documents that\n",
    "term appears in rather than the other way around. This allows us to characterize individual\n",
    "terms.\n",
    "This matrix is 5476×1373, where each row is a term in Science described by 1373 “document”\n",
    "features. These are transformed document frequencies (as above). Repeat the analysis above,\n",
    "but cluster terms instead of documents. The terms are listed in science2k-vocab.txt"
   ]
  },
  {
   "cell_type": "code",
   "execution_count": 27,
   "metadata": {
    "collapsed": true
   },
   "outputs": [],
   "source": [
    "words = np.load(\"Q2-data/science2k-word-doc.npy\")"
   ]
  },
  {
   "cell_type": "code",
   "execution_count": 10,
   "metadata": {
    "collapsed": false
   },
   "outputs": [],
   "source": [
    "for k in range(2, 21):\n",
    "    kmeans = KMeans(n_clusters=k, random_state=0).fit(words)\n",
    "    clusters = kmeans.predict(words)\n",
    "    cluster_nodes = []\n",
    "    for y in range(k):\n",
    "        cluster_nodes.append([(clusters[x], terms[x]) for x in range(len(clusters)) if clusters[x] == y])\n",
    "    f = open(str(k) + \"_r_clusters.txt\", \"w\")\n",
    "    counter = 0\n",
    "    for cluster in cluster_nodes:\n",
    "        f.write(str(counter) + \"\\n\")\n",
    "        for x in cluster:\n",
    "            f.write(x[1] + \"\\n\")\n",
    "        counter += 1\n",
    "        f.write(\"\\n\")"
   ]
  },
  {
   "cell_type": "code",
   "execution_count": 39,
   "metadata": {
    "collapsed": false
   },
   "outputs": [],
   "source": [
    "k = 10\n",
    "kmeans = KMeans(n_clusters=k, random_state=0).fit(words)\n",
    "clusters = kmeans.predict(words)\n",
    "centers = kmeans.cluster_centers_\n",
    "cluster_nodes = []\n",
    "for y in range(k):\n",
    "    cluster_nodes.append([(words[x], terms[x]) for x in range(len(clusters)) if clusters[x] == y])"
   ]
  },
  {
   "cell_type": "code",
   "execution_count": 40,
   "metadata": {
    "collapsed": false
   },
   "outputs": [
    {
     "name": "stdout",
     "output_type": "stream",
     "text": [
      "Top 10 in cluster 0\n",
      "blot\n",
      "incubated\n",
      "stained\n",
      "induction\n",
      "staining\n",
      "kinase\n",
      "intracellular\n",
      "inhibition\n",
      "assays\n",
      "promoter\n",
      "\n",
      "\n",
      "Top 10 in cluster 1\n",
      "aptamers\n",
      "trxr\n",
      "lcts\n",
      "dnag\n",
      "proteorhodopsin\n",
      "doxy\n",
      "nompc\n",
      "neas\n",
      "lg268\n",
      "rory\n",
      "\n",
      "\n",
      "Top 10 in cluster 2\n",
      "dispersion\n",
      "photon\n",
      "approximation\n",
      "momentum\n",
      "angular\n",
      "polarization\n",
      "finite\n",
      "excited\n",
      "coherent\n",
      "energies\n",
      "\n",
      "\n",
      "Top 10 in cluster 3\n",
      "figs\n",
      "intermediate\n",
      "natl\n",
      "acad\n",
      "start\n",
      "composed\n",
      "represented\n",
      "substantially\n",
      "follows\n",
      "marked\n",
      "\n",
      "\n",
      "Top 10 in cluster 4\n",
      "polymerase\n",
      "nucleotide\n",
      "genomic\n",
      "pcr\n",
      "conserved\n",
      "acids\n",
      "residues\n",
      "amino\n",
      "mrna\n",
      "mutation\n",
      "\n",
      "\n",
      "Top 10 in cluster 5\n",
      "interglacial\n",
      "clim\n",
      "volcanism\n",
      "upwelling\n",
      "interannual\n",
      "crater\n",
      "tectonics\n",
      "plume\n",
      "decadal\n",
      "convective\n",
      "\n",
      "\n",
      "Top 10 in cluster 6\n",
      "november\n",
      "\n",
      "\n",
      "Top 10 in cluster 7\n",
      "concentration\n",
      "concentrations\n",
      "\n",
      "\n",
      "Top 10 in cluster 8\n",
      "vol\n",
      "p21\n",
      "cdnas\n",
      "triton\n",
      "cyclin\n",
      "cytosol\n",
      "eco\n",
      "mitochondria\n",
      "methionine\n",
      "isoforms\n",
      "\n",
      "\n",
      "Top 10 in cluster 9\n",
      "recalls\n",
      "clinton\n",
      "geneticist\n",
      "fight\n",
      "security\n",
      "prize\n",
      "spending\n",
      "campaign\n",
      "hes\n",
      "rights\n",
      "\n",
      "\n"
     ]
    }
   ],
   "source": [
    "for x in range(len(cluster_nodes)):\n",
    "    pq = queue.PriorityQueue()\n",
    "    cluster_points = cluster_nodes[x]\n",
    "    cluster_center = centers[x]\n",
    "    for point,term  in cluster_points:\n",
    "        pq.put((euclidean(cluster_center, point), term))\n",
    "    print(\"Top 10 in cluster \" + str(x))\n",
    "    for y in range(min(pq.qsize(), 10)):\n",
    "        print(pq.get()[1])\n",
    "    print(\"\\n\")"
   ]
  },
  {
   "cell_type": "markdown",
   "metadata": {},
   "source": [
    "Clustering by words might be useful in discovering trends in research or in characterizing domain-specific languages (in english). Clustring words gives one insight into the usage of the words, while clustering documents by the corpus of words gives you insight into the themes of the documents."
   ]
  },
  {
   "cell_type": "code",
   "execution_count": null,
   "metadata": {
    "collapsed": true
   },
   "outputs": [],
   "source": []
  }
 ],
 "metadata": {
  "kernelspec": {
   "display_name": "Python 3",
   "language": "python",
   "name": "python3"
  },
  "language_info": {
   "codemirror_mode": {
    "name": "ipython",
    "version": 3
   },
   "file_extension": ".py",
   "mimetype": "text/x-python",
   "name": "python",
   "nbconvert_exporter": "python",
   "pygments_lexer": "ipython3",
   "version": "3.5.4"
  }
 },
 "nbformat": 4,
 "nbformat_minor": 1
}
