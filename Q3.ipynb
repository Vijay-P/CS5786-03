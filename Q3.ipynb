{
 "cells": [
  {
   "cell_type": "markdown",
   "metadata": {},
   "source": [
    "(a) The parameters of Gaussian Mixture Model (GMM) can be estimated via the EM algorithm. Show that the alternating algorithm for k-means (in Lec. 11) is a special case of the EM algorithm and show the corresponding objective functions for E-step and M-step."
   ]
  },
  {
   "cell_type": "code",
   "execution_count": null,
   "metadata": {
    "collapsed": true
   },
   "outputs": [],
   "source": []
  },
  {
   "cell_type": "markdown",
   "metadata": {},
   "source": [
    "(b) Download the Old Faithful Geyser Dataset. The data file contains 272 observations of (eruption time, waiting time). Treat each entry as a 2 dimensional feature vector. Parse and plot all\n",
    "data points on 2-D plane"
   ]
  },
  {
   "cell_type": "code",
   "execution_count": 26,
   "metadata": {
    "collapsed": false
   },
   "outputs": [],
   "source": [
    "import numpy as np\n",
    "from scipy.stats import multivariate_normal as norm\n",
    "from matplotlib import pyplot as plt"
   ]
  },
  {
   "cell_type": "code",
   "execution_count": 82,
   "metadata": {
    "collapsed": false
   },
   "outputs": [],
   "source": [
    "#Read Data\n",
    "dataset = open(\"faithful.dat\", \"r\")\n",
    "lines = dataset.read()\n",
    "lines = lines.split(\"\\n\")\n",
    "\n",
    "X = np.array([np.array(x.split()[1:]) for x in lines][:-1]).astype(float)"
   ]
  },
  {
   "cell_type": "code",
   "execution_count": 31,
   "metadata": {
    "collapsed": false
   },
   "outputs": [
    {
     "data": {
      "image/png": "[encoded data removed]",
      "text/plain": [
       "<matplotlib.figure.Figure at 0x7f4bd4870748>"
      ]
     },
     "metadata": {},
     "output_type": "display_data"
    }
   ],
   "source": [
    "plt.scatter(X[:,0], X[:,1])\n",
    "plt.title(\"Old Faithful Geyser Dataset\")\n",
    "plt.xlabel(\"Eruption Time\")\n",
    "plt.ylabel(\"Waiting Time\")\n",
    "plt.show()"
   ]
  },
  {
   "cell_type": "markdown",
   "metadata": {},
   "source": [
    "(c)Implement a bimodal GMM model to fit all data points using EM algorithm. Explain the reasoning behind your termination criteria. For this problem, we assume the covariance matrix\n",
    "is spherical (i.e., it has the form of σ 2 I for scalar σ) and you can randomly initialize Gaussian\n",
    "parameters."
   ]
  },
  {
   "cell_type": "code",
   "execution_count": 198,
   "metadata": {
    "collapsed": false
   },
   "outputs": [],
   "source": [
    "def bimodal_gmm():\n",
    "    #Initialization\n",
    "    k = 2\n",
    "    n, d = np.shape(X)\n",
    "\n",
    "    mu1 = X[np.random.randint(n, size=1),:][0]\n",
    "    mu2 = X[np.random.randint(n, size=1),:][0]\n",
    "\n",
    "    sigma1 = np.eye(d)\n",
    "    sigma2 = np.eye(d)\n",
    "\n",
    "    pi_hat = np.asarray([1/k] * k)\n",
    "    counter = 0\n",
    "    gamma_last = []\n",
    "    \n",
    "    mu_history = []\n",
    "    \n",
    "    while(True):\n",
    "        #Expectation\n",
    "        gamma = []\n",
    "        for i in range(n):\n",
    "            numerator = pi_hat * norm.pdf(X[i], mu2, sigma2)\n",
    "            denominator = ((1-pi_hat)* norm.pdf(X[i], mu1, sigma1))+numerator\n",
    "            gamma_i = numerator/denominator\n",
    "            if np.isnan(gamma_i).any():\n",
    "                gamma_i = np.array([0]*2)\n",
    "            gamma.append(gamma_i)\n",
    "        gamma = np.asarray(gamma)\n",
    "\n",
    "        #Maximization\n",
    "        mu1_numerator = sum([np.multiply((1-gamma[i]),X[i]) for i in range(n)])\n",
    "        mu1_denominator = sum([(1-gamma[i]) for i in range(n)])\n",
    "        mu1 = mu1_numerator/mu1_denominator\n",
    "\n",
    "        mu2_numerator = sum([np.multiply(gamma[i],X[i]) for i in range(n)])\n",
    "        mu2_denominator = sum([gamma[i] for i in range(n)])\n",
    "        mu2 = mu2_numerator/mu2_denominator\n",
    "        \n",
    "        mu_history.append([mu1, mu2])\n",
    "        \n",
    "        sigma1 = sum([np.dot(np.transpose(np.asmatrix(1-gamma[i])),np.asmatrix(np.square(X[i]-mu1))) for i in range(n)])/mu1_denominator\n",
    "        sigma2 = sum([np.dot(np.transpose(np.asmatrix(gamma[i])),np.asmatrix(np.square(X[i]-mu2))) for i in range(n)])/mu2_denominator\n",
    "\n",
    "        #Make Spherical\n",
    "        sigma1 = np.multiply(sigma1, np.eye(d))\n",
    "        sigma2 = np.multiply(sigma2, np.eye(d))\n",
    "        \n",
    "        pi_hat = sum([gamma[i]/n for i in range(n)])\n",
    "\n",
    "        #Check Convergence\n",
    "        counter += 1\n",
    "        if(counter > 1):\n",
    "            if(np.allclose(gamma, gamma_last)):\n",
    "                return(counter, mu_history)\n",
    "        gamma_last = gamma\n"
   ]
  },
  {
   "cell_type": "code",
   "execution_count": 199,
   "metadata": {
    "collapsed": false
   },
   "outputs": [
    {
     "name": "stdout",
     "output_type": "stream",
     "text": [
      "13\n"
     ]
    }
   ],
   "source": [
    "print(bimodal_gmm()[0])"
   ]
  },
  {
   "cell_type": "markdown",
   "metadata": {
    "collapsed": false
   },
   "source": [
    "Termination criteria: That the change in gamma between two iterations is sufficiently small.\n",
    "Reasoning: Gamma is the responsibility for both cluter centers. If the change in responsibility is negligible, then the GMM is approaching \"equilibrium.\""
   ]
  },
  {
   "cell_type": "markdown",
   "metadata": {
    "collapsed": false
   },
   "source": [
    "(c. contd) For evaluation purposes, please submit the following figures: <br>\n",
    "• Plot the trajectories of two mean vectors in 2 dimensions (i.e., coordinates vs. iteration). <br>\n",
    "• Run your program for 50 times with different initial parameter guesses. Show the distribution of the total number of iterations needed for algorithm to converge."
   ]
  },
  {
   "cell_type": "code",
   "execution_count": 146,
   "metadata": {
    "collapsed": false
   },
   "outputs": [
    {
     "data": {
      "image/png": "[encoded data removed]",
      "text/plain": [
       "<matplotlib.figure.Figure at 0x7f4bd48e2f98>"
      ]
     },
     "metadata": {},
     "output_type": "display_data"
    }
   ],
   "source": [
    "plt.clf()\n",
    "plt.scatter(X[:,0], X[:,1], c=[0,0,0,.1], edgecolors=\"face\")\n",
    "plt.title(\"Old Faithful Geyser Dataset\")\n",
    "plt.xlabel(\"Eruption Time\")\n",
    "plt.ylabel(\"Waiting Time\")\n",
    "mu_hist = bimodal_gmm()[1]\n",
    "first = True\n",
    "last = []\n",
    "for mu_set in mu_hist:\n",
    "    if(first):\n",
    "        first = False\n",
    "    else:\n",
    "        plt.plot([mu_set[0][0],last[0][0]], [mu_set[0][1],last[0][1]], c=[1,0,0])\n",
    "        plt.plot([mu_set[1][0],last[1][0]], [mu_set[1][1],last[1][1]], c=[0,1,0])\n",
    "    last = mu_set\n",
    "plt.savefig(\"means.png\")\n",
    "plt.show()"
   ]
  },
  {
   "cell_type": "code",
   "execution_count": 155,
   "metadata": {
    "collapsed": false
   },
   "outputs": [
    {
     "name": "stderr",
     "output_type": "stream",
     "text": [
      "/usr/lib/python3.5/site-packages/ipykernel_launcher.py:24: RuntimeWarning: invalid value encountered in true_divide\n"
     ]
    }
   ],
   "source": [
    "iterations = {}\n",
    "for x in range(50):\n",
    "    iteration = bimodal_gmm()[0]\n",
    "    if iteration in iterations:\n",
    "        iterations[iteration] += 1\n",
    "    else:\n",
    "        iterations[iteration] = 1"
   ]
  },
  {
   "cell_type": "code",
   "execution_count": 167,
   "metadata": {
    "collapsed": false
   },
   "outputs": [
    {
     "name": "stdout",
     "output_type": "stream",
     "text": [
      "OrderedDict([(8, 4), (9, 4), (10, 9), (11, 7), (12, 3), (13, 7), (14, 7), (15, 7), (17, 2)])\n",
      "odict_keys([8, 9, 10, 11, 12, 13, 14, 15, 17])\n"
     ]
    },
    {
     "data": {
      "image/png": "[encoded data removed]",
      "text/plain": [
       "<matplotlib.figure.Figure at 0x7f4bd43d0780>"
      ]
     },
     "metadata": {},
     "output_type": "display_data"
    }
   ],
   "source": [
    "import collections\n",
    "iterations = collections.OrderedDict(sorted(iterations.items()))\n",
    "\n",
    "print(iterations)\n",
    "y_pos = range(len(iterations))\n",
    "performance = iterations.values()\n",
    "\n",
    "print(iterations.keys())\n",
    "plt.bar(y_pos, performance, align='center', alpha=0.5)\n",
    "plt.xticks(y_pos, iterations.keys())\n",
    "plt.ylabel('Frequency')\n",
    "plt.xlabel('Iterations')\n",
    "plt.title('Distribution of Iterations for Convergence')\n",
    " \n",
    "plt.savefig(\"distribution.png\")\n",
    "plt.show()"
   ]
  },
  {
   "cell_type": "markdown",
   "metadata": {},
   "source": [
    "(d) Repeat the task in (c) but with the initial guesses of the parameters generated from the following process: <br>\n",
    "• Run a k-means algorithm over all the data points with K = 2 and label each point with\n",
    "one of the two clusters. <br>\n",
    "• Estimate the first guess of the mean and covariance matrices using maximum likelihood\n",
    "over the labeled data points. <br>\n",
    "• Compare the algorithm performances of (c) and (d)."
   ]
  },
  {
   "cell_type": "code",
   "execution_count": 192,
   "metadata": {
    "collapsed": false
   },
   "outputs": [],
   "source": [
    "from sklearn.cluster import KMeans"
   ]
  },
  {
   "cell_type": "code",
   "execution_count": 215,
   "metadata": {
    "collapsed": false
   },
   "outputs": [],
   "source": [
    "#Read Data\n",
    "dataset = open(\"faithful.dat\", \"r\")\n",
    "lines = dataset.read()\n",
    "lines = lines.split(\"\\n\")\n",
    "\n",
    "X = np.array([np.array(x.split()[1:]) for x in lines][:-1]).astype(float)"
   ]
  },
  {
   "cell_type": "code",
   "execution_count": 218,
   "metadata": {
    "collapsed": true
   },
   "outputs": [],
   "source": [
    "def bimodal_gmm2():\n",
    "    #K-means\n",
    "    k = 2\n",
    "    kmeans = KMeans(n_clusters=k, random_state=0).fit(X)\n",
    "    clusters = kmeans.predict(X)\n",
    "    centers = kmeans.cluster_centers_\n",
    "\n",
    "    gamma = []\n",
    "    for item in clusters:\n",
    "        if item == 0:\n",
    "            gamma.append([1]*2)\n",
    "        else:\n",
    "            gamma.append([0]*2)\n",
    "    gamma = np.asarray(gamma)\n",
    "\n",
    "    #Initialization\n",
    "    n, d = np.shape(X)\n",
    "\n",
    "    mu1 = centers[0]\n",
    "    mu2 = centers[1]\n",
    "\n",
    "    sigma1 = sum([np.dot(np.transpose(np.asmatrix(1-gamma[i])),np.asmatrix(np.square(X[i]-mu1))) for i in range(n)])/sum([(1-gamma[i]) for i in range(n)])\n",
    "    sigma2 = sum([np.dot(np.transpose(np.asmatrix(gamma[i])),np.asmatrix(np.square(X[i]-mu2))) for i in range(n)])/sum([gamma[i] for i in range(n)])\n",
    "    sigma1 = np.multiply(sigma1, np.eye(d))\n",
    "    sigma2 = np.multiply(sigma2, np.eye(d))\n",
    "\n",
    "    pi_hat = np.asarray([1/k] * k)\n",
    "    counter = 0\n",
    "    gamma_last = []\n",
    "    \n",
    "    mu_history = []\n",
    "    \n",
    "    while(True):\n",
    "        #Expectation\n",
    "        gamma = []\n",
    "        for i in range(n):\n",
    "            numerator = pi_hat * norm.pdf(X[i], mu2, sigma2)\n",
    "            denominator = ((1-pi_hat)* norm.pdf(X[i], mu1, sigma1))+numerator\n",
    "            gamma_i = numerator/denominator\n",
    "            if np.isnan(gamma_i).any():\n",
    "                gamma_i = np.array([0]*2)\n",
    "            gamma.append(gamma_i)\n",
    "        gamma = np.asarray(gamma)\n",
    "\n",
    "        #Maximization\n",
    "        mu1_numerator = sum([np.multiply((1-gamma[i]),X[i]) for i in range(n)])\n",
    "        mu1_denominator = sum([(1-gamma[i]) for i in range(n)])\n",
    "        mu1 = mu1_numerator/mu1_denominator\n",
    "\n",
    "        mu2_numerator = sum([np.multiply(gamma[i],X[i]) for i in range(n)])\n",
    "        mu2_denominator = sum([gamma[i] for i in range(n)])\n",
    "        mu2 = mu2_numerator/mu2_denominator\n",
    "        \n",
    "        mu_history.append([mu1, mu2])\n",
    "        \n",
    "        sigma1 = sum([np.dot(np.transpose(np.asmatrix(1-gamma[i])),np.asmatrix(np.square(X[i]-mu1))) for i in range(n)])/mu1_denominator\n",
    "        sigma2 = sum([np.dot(np.transpose(np.asmatrix(gamma[i])),np.asmatrix(np.square(X[i]-mu2))) for i in range(n)])/mu2_denominator\n",
    "\n",
    "        #Make Spherical\n",
    "        sigma1 = np.multiply(sigma1, np.eye(d))\n",
    "        sigma2 = np.multiply(sigma2, np.eye(d))\n",
    "        \n",
    "        pi_hat = sum([gamma[i]/n for i in range(n)])\n",
    "\n",
    "        #Check Convergence\n",
    "        counter += 1\n",
    "        if(counter > 1):\n",
    "            if(np.allclose(gamma, gamma_last)):\n",
    "                return(counter, mu_history)\n",
    "        gamma_last = gamma\n"
   ]
  },
  {
   "cell_type": "code",
   "execution_count": 219,
   "metadata": {
    "collapsed": false
   },
   "outputs": [],
   "source": [
    "iterations = {}\n",
    "for x in range(50):\n",
    "    iteration = bimodal_gmm2()[0]\n",
    "    if iteration in iterations:\n",
    "        iterations[iteration] += 1\n",
    "    else:\n",
    "        iterations[iteration] = 1"
   ]
  },
  {
   "cell_type": "code",
   "execution_count": 220,
   "metadata": {
    "collapsed": false
   },
   "outputs": [
    {
     "name": "stdout",
     "output_type": "stream",
     "text": [
      "OrderedDict([(12, 50)])\n",
      "odict_keys([12])\n"
     ]
    },
    {
     "data": {
      "image/png": "[encoded data removed]",
      "text/plain": [
       "<matplotlib.figure.Figure at 0x7f4bd448e390>"
      ]
     },
     "metadata": {},
     "output_type": "display_data"
    }
   ],
   "source": [
    "import collections\n",
    "iterations = collections.OrderedDict(sorted(iterations.items()))\n",
    "\n",
    "print(iterations)\n",
    "y_pos = range(len(iterations))\n",
    "performance = iterations.values()\n",
    "\n",
    "print(iterations.keys())\n",
    "plt.bar(y_pos, performance, align='center', alpha=0.5)\n",
    "plt.xticks(y_pos, iterations.keys())\n",
    "plt.ylabel('Frequency')\n",
    "plt.xlabel('Iterations')\n",
    "plt.title('Distribution of Iterations for Convergence')\n",
    " \n",
    "plt.savefig(\"distribution2.png\")\n",
    "plt.show()"
   ]
  },
  {
   "cell_type": "code",
   "execution_count": null,
   "metadata": {
    "collapsed": true
   },
   "outputs": [],
   "source": []
  }
 ],
 "metadata": {
  "kernelspec": {
   "display_name": "Python 3",
   "language": "python",
   "name": "python3"
  },
  "language_info": {
   "codemirror_mode": {
    "name": "ipython",
    "version": 3
   },
   "file_extension": ".py",
   "mimetype": "text/x-python",
   "name": "python",
   "nbconvert_exporter": "python",
   "pygments_lexer": "ipython3",
   "version": "3.5.4"
  }
 },
 "nbformat": 4,
 "nbformat_minor": 1
}
